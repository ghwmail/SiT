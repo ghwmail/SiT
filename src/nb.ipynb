{
 "cells": [
  {
   "cell_type": "code",
   "execution_count": 7,
   "metadata": {},
   "outputs": [
    {
     "name": "stdout",
     "output_type": "stream",
     "text": [
      "85798656\n",
      "[INFO] Register count_convNd() for <class 'torch.nn.modules.conv.Conv1d'>.\n",
      "[INFO] Register zero_ops() for <class 'torch.nn.modules.dropout.Dropout'>.\n",
      "[INFO] Register count_normalization() for <class 'torch.nn.modules.normalization.LayerNorm'>.\n",
      "[INFO] Register count_linear() for <class 'torch.nn.modules.linear.Linear'>.\n",
      "[INFO] Register zero_ops() for <class 'torch.nn.modules.container.Sequential'>.\n",
      "16862862336.0\n",
      "85646592.0\n"
     ]
    }
   ],
   "source": [
    "import torch\n",
    "import pretrain.models_vit as models_vit\n",
    "\n",
    "from thop import profile\n",
    "\n",
    "model = models_vit.__dict__[\"sit_base\"](\n",
    "    num_classes=0, drop_path_rate=0.1\n",
    ")\n",
    "print(sum(p.numel() for p in model.parameters()))\n",
    "flops, params = profile(model, inputs=(torch.randn(1, 1, 3 * 224 * 224), ))\n",
    "print(flops)\n",
    "print(params)"
   ]
  },
  {
   "cell_type": "code",
   "execution_count": 6,
   "metadata": {},
   "outputs": [
    {
     "name": "stdout",
     "output_type": "stream",
     "text": [
      "(2, 150528)\n"
     ]
    }
   ],
   "source": [
    "import os\n",
    "\n",
    "import numpy as np\n",
    "import torch\n",
    "from torch.utils.data import ConcatDataset\n",
    "from torchvision.datasets.folder import DatasetFolder\n",
    "\n",
    "\n",
    "def random_crop_resize(sample, crop_minlen, input_size):\n",
    "    if sample.ndim == 1 or sample.shape[0] == 1:\n",
    "        sample = np.vstack([sample, sample])\n",
    "    sample_len = sample.shape[1]\n",
    "    crop_size = np.random.randint(crop_minlen, sample_len + 1)\n",
    "    start_idx = np.random.randint(0, sample_len - crop_size + 1)\n",
    "    sample = sample[:, start_idx : start_idx + crop_size]\n",
    "    if sample_len > input_size:\n",
    "        sample = sample[:, :input_size]\n",
    "    sample_padded = np.zeros((2, input_size), dtype=np.float32)\n",
    "    sample_padded[:, : sample.shape[1]] = sample\n",
    "    sample = sample_padded\n",
    "    return sample\n",
    "\n",
    "\n",
    "NPY_EXTENSIONS = \".npy\"\n",
    "\n",
    "\n",
    "class MyFolder(DatasetFolder):\n",
    "    def __init__(self, root, mode, input_size, dataset_idx=0, domain_classnum=0):\n",
    "        super().__init__(\n",
    "            root=root,\n",
    "            loader=np.load,\n",
    "            extensions=NPY_EXTENSIONS,\n",
    "        )\n",
    "        self.mode = mode\n",
    "        self.input_size = input_size\n",
    "        self.dataset_idx = dataset_idx\n",
    "        self.domain_classnum = domain_classnum\n",
    "\n",
    "    def __len__(self):\n",
    "        return len(self.samples)\n",
    "\n",
    "    def __getitem__(self, index):\n",
    "        path, target = self.samples[index]\n",
    "\n",
    "        sample = self.loader(path)\n",
    "        if self.mode == \"train\":\n",
    "            sample = random_crop_resize(sample, 512, self.input_size)\n",
    "        else:\n",
    "            sample = random_crop_resize(sample, len(sample), self.input_size)\n",
    "        sample = sample.reshape((2, self.input_size))\n",
    "        sample = torch.from_numpy(sample)\n",
    "        target = self.dataset_idx * self.domain_classnum + target\n",
    "\n",
    "        return sample, target\n",
    "    \n",
    "sample = np.random.rand(1024)\n",
    "sample = random_crop_resize(sample, 512, 224*224*3)\n",
    "print(sample.shape)\n",
    "sample = sample.reshape((2, 224*224*3))"
   ]
  }
 ],
 "metadata": {
  "kernelspec": {
   "display_name": "base",
   "language": "python",
   "name": "python3"
  },
  "language_info": {
   "codemirror_mode": {
    "name": "ipython",
    "version": 3
   },
   "file_extension": ".py",
   "mimetype": "text/x-python",
   "name": "python",
   "nbconvert_exporter": "python",
   "pygments_lexer": "ipython3",
   "version": "3.9.18"
  }
 },
 "nbformat": 4,
 "nbformat_minor": 2
}
